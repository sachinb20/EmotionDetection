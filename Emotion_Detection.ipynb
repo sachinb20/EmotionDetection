{
  "nbformat": 4,
  "nbformat_minor": 0,
  "metadata": {
    "colab": {
      "provenance": []
    },
    "kernelspec": {
      "name": "python3",
      "display_name": "Python 3"
    },
    "language_info": {
      "name": "python"
    },
    "accelerator": "GPU"
  },
  "cells": [
    {
      "cell_type": "code",
      "metadata": {
        "id": "cL9HwJD_BYnS",
        "colab": {
          "base_uri": "https://localhost:8080/"
        },
        "outputId": "ebeac678-d036-474c-b1c7-934b29d8efef"
      },
      "source": [
        "from google.colab import drive\n",
        "drive.mount('/content/drive')"
      ],
      "execution_count": null,
      "outputs": [
        {
          "output_type": "stream",
          "text": [
            "Drive already mounted at /content/drive; to attempt to forcibly remount, call drive.mount(\"/content/drive\", force_remount=True).\n"
          ],
          "name": "stdout"
        }
      ]
    },
    {
      "cell_type": "code",
      "metadata": {
        "id": "GP6ENRcDCE7R"
      },
      "source": [
        "!pip install tensorflow"
      ],
      "execution_count": null,
      "outputs": []
    },
    {
      "cell_type": "code",
      "metadata": {
        "id": "Ex2QOWGRCraP"
      },
      "source": [
        "import numpy as np\n",
        "import pandas as pd\n",
        "import matplotlib.pyplot as plt\n",
        "from tensorflow import keras\n",
        "import seaborn as sn\n",
        "from sklearn.metrics import confusion_matrix , classification_report\n",
        "from tensorflow.keras import layers\n",
        "import warnings\n",
        "warnings.filterwarnings('ignore')"
      ],
      "execution_count": null,
      "outputs": []
    },
    {
      "cell_type": "code",
      "metadata": {
        "colab": {
          "base_uri": "https://localhost:8080/"
        },
        "id": "c4yTqYC6C4Zv",
        "outputId": "7b07b540-08ba-4f7b-f83b-293e4f8bd8c6"
      },
      "source": [
        "df = pd.read_csv(\"/content/drive/MyDrive/fer2013.csv\")\n",
        "print(df)"
      ],
      "execution_count": null,
      "outputs": [
        {
          "output_type": "stream",
          "text": [
            "       emotion                                             pixels        Usage\n",
            "0            0  70 80 82 72 58 58 60 63 54 58 60 48 89 115 121...     Training\n",
            "1            0  151 150 147 155 148 133 111 140 170 174 182 15...     Training\n",
            "2            2  231 212 156 164 174 138 161 173 182 200 106 38...     Training\n",
            "3            4  24 32 36 30 32 23 19 20 30 41 21 22 32 34 21 1...     Training\n",
            "4            6  4 0 0 0 0 0 0 0 0 0 0 0 3 15 23 28 48 50 58 84...     Training\n",
            "...        ...                                                ...          ...\n",
            "35882        6  50 36 17 22 23 29 33 39 34 37 37 37 39 43 48 5...  PrivateTest\n",
            "35883        3  178 174 172 173 181 188 191 194 196 199 200 20...  PrivateTest\n",
            "35884        0  17 17 16 23 28 22 19 17 25 26 20 24 31 19 27 9...  PrivateTest\n",
            "35885        3  30 28 28 29 31 30 42 68 79 81 77 67 67 71 63 6...  PrivateTest\n",
            "35886        2  19 13 14 12 13 16 21 33 50 57 71 84 97 108 122...  PrivateTest\n",
            "\n",
            "[35887 rows x 3 columns]\n"
          ],
          "name": "stdout"
        }
      ]
    },
    {
      "cell_type": "code",
      "metadata": {
        "colab": {
          "base_uri": "https://localhost:8080/"
        },
        "id": "zxdy_kau-qoe",
        "outputId": "9671898c-d733-40b5-d095-0d0cd65771e3"
      },
      "source": [
        "df.info()"
      ],
      "execution_count": null,
      "outputs": [
        {
          "output_type": "stream",
          "text": [
            "<class 'pandas.core.frame.DataFrame'>\n",
            "RangeIndex: 35887 entries, 0 to 35886\n",
            "Data columns (total 3 columns):\n",
            " #   Column   Non-Null Count  Dtype \n",
            "---  ------   --------------  ----- \n",
            " 0   emotion  35887 non-null  int64 \n",
            " 1   pixels   35887 non-null  object\n",
            " 2   Usage    35887 non-null  object\n",
            "dtypes: int64(1), object(2)\n",
            "memory usage: 841.2+ KB\n"
          ],
          "name": "stdout"
        }
      ]
    },
    {
      "cell_type": "code",
      "metadata": {
        "id": "w45Twf7S9wm7"
      },
      "source": [
        "x = df.pixels.apply(lambda i : np.array(i.split(' ')).reshape(48,48,1).astype('float')) / 255\n"
      ],
      "execution_count": null,
      "outputs": []
    },
    {
      "cell_type": "code",
      "metadata": {
        "id": "18TnQTruAIh0",
        "colab": {
          "base_uri": "https://localhost:8080/"
        },
        "outputId": "57a0a434-a1b4-4deb-b34d-3f1f31fe8eb0"
      },
      "source": [
        "x=np.stack(x)\n",
        "x"
      ],
      "execution_count": null,
      "outputs": [
        {
          "output_type": "execute_result",
          "data": {
            "text/plain": [
              "array([[[[0.2745098 ],\n",
              "         [0.31372549],\n",
              "         [0.32156863],\n",
              "         ...,\n",
              "         [0.20392157],\n",
              "         [0.16862745],\n",
              "         [0.16078431]],\n",
              "\n",
              "        [[0.25490196],\n",
              "         [0.23921569],\n",
              "         [0.22745098],\n",
              "         ...,\n",
              "         [0.21960784],\n",
              "         [0.20392157],\n",
              "         [0.17254902]],\n",
              "\n",
              "        [[0.19607843],\n",
              "         [0.16862745],\n",
              "         [0.21176471],\n",
              "         ...,\n",
              "         [0.19215686],\n",
              "         [0.21960784],\n",
              "         [0.18431373]],\n",
              "\n",
              "        ...,\n",
              "\n",
              "        [[0.35686275],\n",
              "         [0.25490196],\n",
              "         [0.16470588],\n",
              "         ...,\n",
              "         [0.28235294],\n",
              "         [0.21960784],\n",
              "         [0.16862745]],\n",
              "\n",
              "        [[0.30196078],\n",
              "         [0.32156863],\n",
              "         [0.30980392],\n",
              "         ...,\n",
              "         [0.41176471],\n",
              "         [0.2745098 ],\n",
              "         [0.18039216]],\n",
              "\n",
              "        [[0.30196078],\n",
              "         [0.28235294],\n",
              "         [0.32941176],\n",
              "         ...,\n",
              "         [0.41568627],\n",
              "         [0.42745098],\n",
              "         [0.32156863]]],\n",
              "\n",
              "\n",
              "       [[[0.59215686],\n",
              "         [0.58823529],\n",
              "         [0.57647059],\n",
              "         ...,\n",
              "         [0.50588235],\n",
              "         [0.54901961],\n",
              "         [0.47058824]],\n",
              "\n",
              "        [[0.59215686],\n",
              "         [0.58431373],\n",
              "         [0.58431373],\n",
              "         ...,\n",
              "         [0.47843137],\n",
              "         [0.55294118],\n",
              "         [0.5372549 ]],\n",
              "\n",
              "        [[0.59215686],\n",
              "         [0.59215686],\n",
              "         [0.61176471],\n",
              "         ...,\n",
              "         [0.42745098],\n",
              "         [0.48235294],\n",
              "         [0.57254902]],\n",
              "\n",
              "        ...,\n",
              "\n",
              "        [[0.7372549 ],\n",
              "         [0.7372549 ],\n",
              "         [0.4745098 ],\n",
              "         ...,\n",
              "         [0.7254902 ],\n",
              "         [0.7254902 ],\n",
              "         [0.72941176]],\n",
              "\n",
              "        [[0.7372549 ],\n",
              "         [0.73333333],\n",
              "         [0.76862745],\n",
              "         ...,\n",
              "         [0.72941176],\n",
              "         [0.71372549],\n",
              "         [0.73333333]],\n",
              "\n",
              "        [[0.72941176],\n",
              "         [0.72156863],\n",
              "         [0.7254902 ],\n",
              "         ...,\n",
              "         [0.75686275],\n",
              "         [0.71764706],\n",
              "         [0.72156863]]],\n",
              "\n",
              "\n",
              "       [[[0.90588235],\n",
              "         [0.83137255],\n",
              "         [0.61176471],\n",
              "         ...,\n",
              "         [0.17254902],\n",
              "         [0.10588235],\n",
              "         [0.0627451 ]],\n",
              "\n",
              "        [[0.89803922],\n",
              "         [0.68627451],\n",
              "         [0.58039216],\n",
              "         ...,\n",
              "         [0.10588235],\n",
              "         [0.1372549 ],\n",
              "         [0.10588235]],\n",
              "\n",
              "        [[0.83921569],\n",
              "         [0.61176471],\n",
              "         [0.61568627],\n",
              "         ...,\n",
              "         [0.10980392],\n",
              "         [0.08627451],\n",
              "         [0.10980392]],\n",
              "\n",
              "        ...,\n",
              "\n",
              "        [[0.94509804],\n",
              "         [0.96078431],\n",
              "         [0.98039216],\n",
              "         ...,\n",
              "         [0.22352941],\n",
              "         [0.39607843],\n",
              "         [0.57254902]],\n",
              "\n",
              "        [[0.96470588],\n",
              "         [0.98039216],\n",
              "         [0.98823529],\n",
              "         ...,\n",
              "         [0.30588235],\n",
              "         [0.41176471],\n",
              "         [0.63529412]],\n",
              "\n",
              "        [[0.98039216],\n",
              "         [0.98431373],\n",
              "         [0.98039216],\n",
              "         ...,\n",
              "         [0.34509804],\n",
              "         [0.43137255],\n",
              "         [0.59607843]]],\n",
              "\n",
              "\n",
              "       ...,\n",
              "\n",
              "\n",
              "       [[[0.06666667],\n",
              "         [0.06666667],\n",
              "         [0.0627451 ],\n",
              "         ...,\n",
              "         [0.3254902 ],\n",
              "         [0.44705882],\n",
              "         [0.96078431]],\n",
              "\n",
              "        [[0.07058824],\n",
              "         [0.06666667],\n",
              "         [0.0627451 ],\n",
              "         ...,\n",
              "         [0.40784314],\n",
              "         [0.53333333],\n",
              "         [0.99215686]],\n",
              "\n",
              "        [[0.0745098 ],\n",
              "         [0.0627451 ],\n",
              "         [0.06666667],\n",
              "         ...,\n",
              "         [0.50196078],\n",
              "         [0.59607843],\n",
              "         [1.        ]],\n",
              "\n",
              "        ...,\n",
              "\n",
              "        [[0.01568627],\n",
              "         [0.08235294],\n",
              "         [0.18039216],\n",
              "         ...,\n",
              "         [0.72941176],\n",
              "         [0.70588235],\n",
              "         [0.73333333]],\n",
              "\n",
              "        [[0.01960784],\n",
              "         [0.06666667],\n",
              "         [0.16078431],\n",
              "         ...,\n",
              "         [0.69411765],\n",
              "         [0.6745098 ],\n",
              "         [0.69019608]],\n",
              "\n",
              "        [[0.07843137],\n",
              "         [0.05882353],\n",
              "         [0.08627451],\n",
              "         ...,\n",
              "         [0.60392157],\n",
              "         [0.52156863],\n",
              "         [0.44313725]]],\n",
              "\n",
              "\n",
              "       [[[0.11764706],\n",
              "         [0.10980392],\n",
              "         [0.10980392],\n",
              "         ...,\n",
              "         [0.23529412],\n",
              "         [0.19607843],\n",
              "         [0.17254902]],\n",
              "\n",
              "        [[0.11764706],\n",
              "         [0.10588235],\n",
              "         [0.10980392],\n",
              "         ...,\n",
              "         [0.25098039],\n",
              "         [0.20392157],\n",
              "         [0.15686275]],\n",
              "\n",
              "        [[0.12156863],\n",
              "         [0.10980392],\n",
              "         [0.11764706],\n",
              "         ...,\n",
              "         [0.23921569],\n",
              "         [0.21176471],\n",
              "         [0.14509804]],\n",
              "\n",
              "        ...,\n",
              "\n",
              "        [[0.40784314],\n",
              "         [0.42745098],\n",
              "         [0.43137255],\n",
              "         ...,\n",
              "         [0.1372549 ],\n",
              "         [0.11764706],\n",
              "         [0.11764706]],\n",
              "\n",
              "        [[0.4       ],\n",
              "         [0.41176471],\n",
              "         [0.42352941],\n",
              "         ...,\n",
              "         [0.1372549 ],\n",
              "         [0.12156863],\n",
              "         [0.11372549]],\n",
              "\n",
              "        [[0.36470588],\n",
              "         [0.37647059],\n",
              "         [0.39215686],\n",
              "         ...,\n",
              "         [0.1372549 ],\n",
              "         [0.11764706],\n",
              "         [0.10980392]]],\n",
              "\n",
              "\n",
              "       [[[0.0745098 ],\n",
              "         [0.05098039],\n",
              "         [0.05490196],\n",
              "         ...,\n",
              "         [0.42352941],\n",
              "         [0.37254902],\n",
              "         [0.3372549 ]],\n",
              "\n",
              "        [[0.0627451 ],\n",
              "         [0.06666667],\n",
              "         [0.05882353],\n",
              "         ...,\n",
              "         [0.41176471],\n",
              "         [0.36862745],\n",
              "         [0.35294118]],\n",
              "\n",
              "        [[0.03921569],\n",
              "         [0.03529412],\n",
              "         [0.03921569],\n",
              "         ...,\n",
              "         [0.39607843],\n",
              "         [0.36470588],\n",
              "         [0.37254902]],\n",
              "\n",
              "        ...,\n",
              "\n",
              "        [[0.07058824],\n",
              "         [0.05490196],\n",
              "         [0.0627451 ],\n",
              "         ...,\n",
              "         [0.21568627],\n",
              "         [0.25098039],\n",
              "         [0.37254902]],\n",
              "\n",
              "        [[0.05882353],\n",
              "         [0.05882353],\n",
              "         [0.05098039],\n",
              "         ...,\n",
              "         [0.48235294],\n",
              "         [0.67058824],\n",
              "         [0.75294118]],\n",
              "\n",
              "        [[0.0627451 ],\n",
              "         [0.05490196],\n",
              "         [0.05098039],\n",
              "         ...,\n",
              "         [0.74117647],\n",
              "         [0.78039216],\n",
              "         [0.78823529]]]])"
            ]
          },
          "metadata": {
            "tags": []
          },
          "execution_count": 28
        }
      ]
    },
    {
      "cell_type": "code",
      "metadata": {
        "id": "iaZLaKhjGRd-",
        "colab": {
          "base_uri": "https://localhost:8080/"
        },
        "outputId": "c0730b40-47ad-49a7-b1f7-fdbad1815785"
      },
      "source": [
        "\n",
        "y = df['emotion']\n",
        "\n",
        "y\n"
      ],
      "execution_count": null,
      "outputs": [
        {
          "output_type": "execute_result",
          "data": {
            "text/plain": [
              "0        0\n",
              "1        0\n",
              "2        2\n",
              "3        4\n",
              "4        6\n",
              "        ..\n",
              "35882    6\n",
              "35883    3\n",
              "35884    0\n",
              "35885    3\n",
              "35886    2\n",
              "Name: emotion, Length: 35887, dtype: int64"
            ]
          },
          "metadata": {
            "tags": []
          },
          "execution_count": 29
        }
      ]
    },
    {
      "cell_type": "code",
      "metadata": {
        "id": "b7onMGLZv45L"
      },
      "source": [
        "from sklearn.model_selection import train_test_split\n",
        "\n",
        "x_train, x_test, y_train, y_test = train_test_split(x, y, test_size=0.202, random_state=42)"
      ],
      "execution_count": null,
      "outputs": []
    },
    {
      "cell_type": "code",
      "metadata": {
        "id": "EUqebneHmgA6",
        "colab": {
          "base_uri": "https://localhost:8080/"
        },
        "outputId": "f72e3f9f-f2fb-4d64-9b25-242475abb758"
      },
      "source": [
        "y_train = keras.utils.to_categorical(y_train, 7)\n",
        "y_test = keras.utils.to_categorical(y_test, 7)\n",
        "\n",
        "y_test"
      ],
      "execution_count": null,
      "outputs": [
        {
          "output_type": "execute_result",
          "data": {
            "text/plain": [
              "array([[0., 0., 0., ..., 0., 0., 0.],\n",
              "       [0., 0., 0., ..., 0., 0., 1.],\n",
              "       [1., 0., 0., ..., 0., 0., 0.],\n",
              "       ...,\n",
              "       [1., 0., 0., ..., 0., 0., 0.],\n",
              "       [0., 0., 0., ..., 0., 0., 0.],\n",
              "       [0., 0., 0., ..., 0., 0., 1.]], dtype=float32)"
            ]
          },
          "metadata": {
            "tags": []
          },
          "execution_count": 32
        }
      ]
    },
    {
      "cell_type": "code",
      "metadata": {
        "id": "mxanXnBn4LGy",
        "colab": {
          "base_uri": "https://localhost:8080/"
        },
        "outputId": "fe4cdb54-139a-4559-d2d2-cc11f3f6b430"
      },
      "source": [
        "Input_shape= (48,48,1) \n",
        "\n",
        "model = keras.Sequential(\n",
        "    [\n",
        "        keras.Input(shape=Input_shape),\n",
        "        layers.Conv2D(32, kernel_size=(3, 3), activation=\"relu\"),\n",
        "        layers.MaxPooling2D(pool_size=(2, 2)),\n",
        "     \n",
        "        layers.Conv2D(64, kernel_size=(3, 3), activation=\"relu\"),\n",
        "        layers.MaxPooling2D(pool_size=(2, 2)),\n",
        "     \n",
        "        layers.Conv2D(128, kernel_size=(3, 3), activation=\"relu\"),\n",
        "        layers.MaxPooling2D(pool_size=(2, 2)),\n",
        "     \n",
        "        layers.Conv2D(256, kernel_size=(3, 3), activation=\"relu\"),\n",
        "        layers.MaxPooling2D(pool_size=(2, 2)),\n",
        "     \n",
        "        layers.Flatten(),\n",
        "        layers.Dense(7, activation=\"softmax\"),\n",
        "    ]\n",
        ")\n",
        "\n",
        "model.compile(loss=\"categorical_crossentropy\", optimizer=\"adam\", metrics=[\"accuracy\"])\n",
        "\n",
        "model.fit(x_train, y_train, batch_size=128, epochs=20, validation_split=0.1)"
      ],
      "execution_count": null,
      "outputs": [
        {
          "output_type": "stream",
          "text": [
            "WARNING:tensorflow:Please add `keras.layers.InputLayer` instead of `keras.Input` to Sequential model. `keras.Input` is intended to be used by Functional model.\n",
            "Epoch 1/20\n",
            "202/202 [==============================] - 4s 15ms/step - loss: 1.7674 - accuracy: 0.2774 - val_loss: 1.6745 - val_accuracy: 0.3401\n",
            "Epoch 2/20\n",
            "202/202 [==============================] - 3s 14ms/step - loss: 1.5371 - accuracy: 0.4075 - val_loss: 1.4811 - val_accuracy: 0.4302\n",
            "Epoch 3/20\n",
            "202/202 [==============================] - 3s 13ms/step - loss: 1.3995 - accuracy: 0.4657 - val_loss: 1.3715 - val_accuracy: 0.4696\n",
            "Epoch 4/20\n",
            "202/202 [==============================] - 3s 13ms/step - loss: 1.3007 - accuracy: 0.5059 - val_loss: 1.3059 - val_accuracy: 0.5101\n",
            "Epoch 5/20\n",
            "202/202 [==============================] - 3s 13ms/step - loss: 1.2222 - accuracy: 0.5372 - val_loss: 1.2775 - val_accuracy: 0.5066\n",
            "Epoch 6/20\n",
            "202/202 [==============================] - 3s 13ms/step - loss: 1.1600 - accuracy: 0.5623 - val_loss: 1.2637 - val_accuracy: 0.5279\n",
            "Epoch 7/20\n",
            "202/202 [==============================] - 3s 13ms/step - loss: 1.1063 - accuracy: 0.5852 - val_loss: 1.2183 - val_accuracy: 0.5367\n",
            "Epoch 8/20\n",
            "202/202 [==============================] - 3s 13ms/step - loss: 1.0457 - accuracy: 0.6104 - val_loss: 1.2044 - val_accuracy: 0.5468\n",
            "Epoch 9/20\n",
            "202/202 [==============================] - 3s 13ms/step - loss: 0.9937 - accuracy: 0.6318 - val_loss: 1.1793 - val_accuracy: 0.5611\n",
            "Epoch 10/20\n",
            "202/202 [==============================] - 3s 13ms/step - loss: 0.9388 - accuracy: 0.6537 - val_loss: 1.2054 - val_accuracy: 0.5594\n",
            "Epoch 11/20\n",
            "202/202 [==============================] - 3s 13ms/step - loss: 0.8795 - accuracy: 0.6790 - val_loss: 1.2527 - val_accuracy: 0.5450\n",
            "Epoch 12/20\n",
            "202/202 [==============================] - 3s 13ms/step - loss: 0.8268 - accuracy: 0.6977 - val_loss: 1.2626 - val_accuracy: 0.5468\n",
            "Epoch 13/20\n",
            "202/202 [==============================] - 3s 13ms/step - loss: 0.7590 - accuracy: 0.7258 - val_loss: 1.2634 - val_accuracy: 0.5632\n",
            "Epoch 14/20\n",
            "202/202 [==============================] - 3s 13ms/step - loss: 0.6940 - accuracy: 0.7522 - val_loss: 1.3326 - val_accuracy: 0.5510\n",
            "Epoch 15/20\n",
            "202/202 [==============================] - 3s 13ms/step - loss: 0.6328 - accuracy: 0.7735 - val_loss: 1.3603 - val_accuracy: 0.5555\n",
            "Epoch 16/20\n",
            "202/202 [==============================] - 3s 13ms/step - loss: 0.5849 - accuracy: 0.7920 - val_loss: 1.4449 - val_accuracy: 0.5499\n",
            "Epoch 17/20\n",
            "202/202 [==============================] - 3s 13ms/step - loss: 0.5228 - accuracy: 0.8142 - val_loss: 1.5348 - val_accuracy: 0.5569\n",
            "Epoch 18/20\n",
            "202/202 [==============================] - 3s 13ms/step - loss: 0.4738 - accuracy: 0.8336 - val_loss: 1.6076 - val_accuracy: 0.5503\n",
            "Epoch 19/20\n",
            "202/202 [==============================] - 3s 13ms/step - loss: 0.4212 - accuracy: 0.8510 - val_loss: 1.7241 - val_accuracy: 0.5492\n",
            "Epoch 20/20\n",
            "202/202 [==============================] - 3s 13ms/step - loss: 0.3737 - accuracy: 0.8731 - val_loss: 1.7619 - val_accuracy: 0.5566\n"
          ],
          "name": "stdout"
        },
        {
          "output_type": "execute_result",
          "data": {
            "text/plain": [
              "<tensorflow.python.keras.callbacks.History at 0x7fc8ca235290>"
            ]
          },
          "metadata": {
            "tags": []
          },
          "execution_count": 33
        }
      ]
    },
    {
      "cell_type": "code",
      "metadata": {
        "id": "VMK0P8yJ1wH6",
        "colab": {
          "base_uri": "https://localhost:8080/"
        },
        "outputId": "565d3015-e021-43ad-fb00-0e6280c3edfa"
      },
      "source": [
        "score = model.evaluate(x_test, y_test, verbose=0)\n",
        "print(\"Test loss:\", score[0])\n",
        "print(\"Test accuracy:\", score[1])"
      ],
      "execution_count": null,
      "outputs": [
        {
          "output_type": "stream",
          "text": [
            "Test loss: 1.7536391019821167\n",
            "Test accuracy: 0.5518620610237122\n"
          ],
          "name": "stdout"
        }
      ]
    },
    {
      "cell_type": "markdown",
      "metadata": {
        "id": "T9k2bkh1BRje"
      },
      "source": [
        "## Visualization\n"
      ]
    },
    {
      "cell_type": "code",
      "metadata": {
        "id": "imt4UFYY5B5N",
        "colab": {
          "base_uri": "https://localhost:8080/",
          "height": 267
        },
        "outputId": "c98ca63d-a1b0-4f82-fc04-190ff18be48a"
      },
      "source": [
        "plt.imshow(np.squeeze(x_test[45]))\n",
        "plt.show()"
      ],
      "execution_count": null,
      "outputs": [
        {
          "output_type": "display_data",
          "data": {
            "image/png": "[encoded data removed]",
            "text/plain": [
              "<Figure size 432x288 with 1 Axes>"
            ]
          },
          "metadata": {
            "tags": [],
            "needs_background": "light"
          }
        }
      ]
    },
    {
      "cell_type": "code",
      "metadata": {
        "id": "Pvc8Xyov67av",
        "colab": {
          "base_uri": "https://localhost:8080/",
          "height": 267
        },
        "outputId": "8145b5f4-802e-4f04-9d79-a9326e6f3342"
      },
      "source": [
        "plt.imshow(np.squeeze(x_test[46]))\n",
        "plt.show()"
      ],
      "execution_count": null,
      "outputs": [
        {
          "output_type": "display_data",
          "data": {
            "image/png": "[encoded data removed]",
            "text/plain": [
              "<Figure size 432x288 with 1 Axes>"
            ]
          },
          "metadata": {
            "tags": [],
            "needs_background": "light"
          }
        }
      ]
    },
    {
      "cell_type": "code",
      "metadata": {
        "id": "_2xXwWVM6EoT",
        "colab": {
          "base_uri": "https://localhost:8080/"
        },
        "outputId": "ccf612e5-ad1d-43fe-f7b6-d62cd7b50b1c"
      },
      "source": [
        "predict_prob = model.predict(x_test)\n",
        "\n",
        "print(np.round(predict_prob[45],3)*255)"
      ],
      "execution_count": null,
      "outputs": [
        {
          "output_type": "stream",
          "text": [
            "[  0.25500003   0.           0.25500003 221.08499      0.\n",
            "   0.25500003  32.894997  ]\n"
          ],
          "name": "stdout"
        }
      ]
    },
    {
      "cell_type": "code",
      "metadata": {
        "id": "eCXf_n7J6KCJ"
      },
      "source": [],
      "execution_count": null,
      "outputs": []
    },
    {
      "cell_type": "code",
      "metadata": {
        "id": "zYNcy02K6e6G",
        "colab": {
          "base_uri": "https://localhost:8080/"
        },
        "outputId": "6d97223b-5794-49c8-f006-f398a7b2afde"
      },
      "source": [
        "y_pred = np.argmax(predict_prob,axis=1)\n",
        "\n",
        "y_pred[45],y_pred[46]"
      ],
      "execution_count": null,
      "outputs": [
        {
          "output_type": "execute_result",
          "data": {
            "text/plain": [
              "(3, 2)"
            ]
          },
          "metadata": {
            "tags": []
          },
          "execution_count": 38
        }
      ]
    },
    {
      "cell_type": "code",
      "metadata": {
        "id": "5VYggjXY7AnI"
      },
      "source": [],
      "execution_count": null,
      "outputs": []
    },
    {
      "cell_type": "code",
      "metadata": {
        "id": "37Gy9eom7sSf",
        "colab": {
          "base_uri": "https://localhost:8080/"
        },
        "outputId": "4d477610-0c7a-4daa-b477-37c2df4c7b54"
      },
      "source": [
        "y_actual = np.argmax(y_test,axis=1)\n",
        "\n",
        "y_actual[45],y_actual[46]"
      ],
      "execution_count": null,
      "outputs": [
        {
          "output_type": "execute_result",
          "data": {
            "text/plain": [
              "(3, 4)"
            ]
          },
          "metadata": {
            "tags": []
          },
          "execution_count": 39
        }
      ]
    },
    {
      "cell_type": "code",
      "metadata": {
        "id": "l5Z8Kt7_CFvl"
      },
      "source": [],
      "execution_count": null,
      "outputs": []
    },
    {
      "cell_type": "markdown",
      "metadata": {
        "id": "U7EvC85F75d4"
      },
      "source": [
        "## Confusion matrix, Recall, F1"
      ]
    },
    {
      "cell_type": "code",
      "metadata": {
        "id": "hqok1mJs7E6T",
        "colab": {
          "base_uri": "https://localhost:8080/",
          "height": 428
        },
        "outputId": "0f0f1c8b-3d82-466d-aebc-11706a19bd2d"
      },
      "source": [
        "array = confusion_matrix(y_actual, y_pred)\n",
        "\n",
        "df_cm = pd.DataFrame(array, range(7), range(7))\n",
        "plt.figure(figsize = (10,7))\n",
        "sn.heatmap(df_cm, annot=True, fmt='g')\n",
        "\n",
        "plt.show()"
      ],
      "execution_count": null,
      "outputs": [
        {
          "output_type": "display_data",
          "data": {
            "image/png": "[encoded data removed]",
            "text/plain": [
              "<Figure size 720x504 with 2 Axes>"
            ]
          },
          "metadata": {
            "tags": [],
            "needs_background": "light"
          }
        }
      ]
    },
    {
      "cell_type": "code",
      "metadata": {
        "colab": {
          "base_uri": "https://localhost:8080/"
        },
        "id": "-PHpEG0ItxNt",
        "outputId": "755757ca-8a5b-4cbd-a62a-0bd44c7aa88b"
      },
      "source": [
        "report = classification_report(y_actual,y_pred)\n",
        "\n",
        "print(report)"
      ],
      "execution_count": null,
      "outputs": [
        {
          "output_type": "stream",
          "text": [
            "              precision    recall  f1-score   support\n",
            "\n",
            "           0       0.48      0.43      0.45       994\n",
            "           1       0.44      0.39      0.41       103\n",
            "           2       0.45      0.38      0.41      1056\n",
            "           3       0.73      0.77      0.75      1782\n",
            "           4       0.41      0.45      0.43      1221\n",
            "           5       0.67      0.70      0.68       805\n",
            "           6       0.49      0.51      0.50      1289\n",
            "\n",
            "    accuracy                           0.55      7250\n",
            "   macro avg       0.52      0.52      0.52      7250\n",
            "weighted avg       0.55      0.55      0.55      7250\n",
            "\n"
          ],
          "name": "stdout"
        }
      ]
    }
  ]
}